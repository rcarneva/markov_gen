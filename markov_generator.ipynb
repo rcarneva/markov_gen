{
 "cells": [
  {
   "cell_type": "code",
   "execution_count": null,
   "metadata": {
    "collapsed": false
   },
   "outputs": [],
   "source": [
    "from collections import defaultdict, Counter\n",
    "\n",
    "import pandas as pd\n",
    "import numpy as np"
   ]
  },
  {
   "cell_type": "markdown",
   "metadata": {},
   "source": [
    "Data from:\n",
    "https://www.kaggle.com/c/predict-closed-questions-on-stack-overflow/data"
   ]
  },
  {
   "cell_type": "code",
   "execution_count": null,
   "metadata": {
    "collapsed": false
   },
   "outputs": [],
   "source": [
    "df = pd.read_csv(\"train-sample.csv\")\n",
    "df[\"BodyMarkdown\"].head()"
   ]
  },
  {
   "cell_type": "code",
   "execution_count": null,
   "metadata": {
    "collapsed": false
   },
   "outputs": [],
   "source": [
    "markov = defaultdict(lambda: Counter())\n",
    "use_char = True\n",
    "chars = 8\n",
    "\n",
    "use_df = df[(df[[c for c in df.columns if \"Tag\" in c]] == \"python\").any(axis=1)]\n",
    "\n",
    "for text in use_df[\"BodyMarkdown\"].ix[:]:\n",
    "    lastword = [None] * chars\n",
    "    ob = text if use_char else text.split()\n",
    "    for c in ob:\n",
    "        markov[tuple(lastword)][c] += 1\n",
    "        lastword = lastword[1:] + [c]\n",
    "    markov[tuple(lastword)][None] += 1"
   ]
  },
  {
   "cell_type": "code",
   "execution_count": null,
   "metadata": {
    "collapsed": false,
    "scrolled": false
   },
   "outputs": [],
   "source": [
    "for __ in xrange(5):\n",
    "    lastword = [None] * chars\n",
    "    gen = []\n",
    "    \n",
    "    while True:\n",
    "        vals = markov[tuple(lastword)].values()\n",
    "        tot = float(sum(vals))\n",
    "\n",
    "        nextchar = np.random.choice(markov[tuple(lastword)].keys(), p=map(lambda v: v / tot, vals))\n",
    "        if nextchar is None:\n",
    "            break\n",
    "        gen += [nextchar]\n",
    "        lastword = lastword[1:] + [nextchar]\n",
    "    joiner = '' if use_char else ' '\n",
    "    print joiner.join(gen)\n",
    "    print \"-\"*100"
   ]
  },
  {
   "cell_type": "code",
   "execution_count": null,
   "metadata": {
    "collapsed": true
   },
   "outputs": [],
   "source": []
  }
 ],
 "metadata": {
  "kernelspec": {
   "display_name": "Python 2",
   "language": "python",
   "name": "python2"
  },
  "language_info": {
   "codemirror_mode": {
    "name": "ipython",
    "version": 2
   },
   "file_extension": ".py",
   "mimetype": "text/x-python",
   "name": "python",
   "nbconvert_exporter": "python",
   "pygments_lexer": "ipython2",
   "version": "2.7.10"
  }
 },
 "nbformat": 4,
 "nbformat_minor": 0
}
